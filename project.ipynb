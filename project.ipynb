{
  "nbformat": 4,
  "nbformat_minor": 0,
  "metadata": {
    "colab": {
      "provenance": [],
      "authorship_tag": "ABX9TyMTb9k0NW+AC5G4oySpvaU2",
      "include_colab_link": true
    },
    "kernelspec": {
      "name": "python3",
      "display_name": "Python 3"
    },
    "language_info": {
      "name": "python"
    }
  },
  "cells": [
    {
      "cell_type": "markdown",
      "metadata": {
        "id": "view-in-github",
        "colab_type": "text"
      },
      "source": [
        "<a href=\"https://colab.research.google.com/github/Nandhana2903/Project/blob/main/project.ipynb\" target=\"_parent\"><img src=\"https://colab.research.google.com/assets/colab-badge.svg\" alt=\"Open In Colab\"/></a>"
      ]
    },
    {
      "cell_type": "code",
      "source": [
        "import numpy as np"
      ],
      "metadata": {
        "id": "6nZYyTkD8QDD"
      },
      "execution_count": 1,
      "outputs": []
    },
    {
      "cell_type": "code",
      "source": [
        "def generate_sbox(u_in=3.9985):\n",
        "    m=10000\n",
        "    x=np.random.rand(m)\n",
        "    x[0]=0.02\n",
        "    u=u_in\n",
        "    x_hex=[float.hex(x[0])]\n",
        "    for i in range (1,m):\n",
        "        x[i]=u*x[i-1]*(1-x[i-1])\n",
        "        x_hex.append(float.hex(x[i]))\n",
        "    s=[]\n",
        "    s_b=[]\n",
        "    for i in range(len(x_hex)):\n",
        "        s.append(x_hex[i][5]+x_hex[i][6])\n",
        "    for i in range(len(s)):\n",
        "        if len(s_b)<257:\n",
        "            if s[i] not in s_b:\n",
        "                s_b.append(s[i])\n",
        "\n",
        "    s_nump=np.array(s_b)\n",
        "    s_box=s_nump.reshape(16,16)\n",
        "    return s_box"
      ],
      "metadata": {
        "id": "bAUTdnzS82rn"
      },
      "execution_count": 2,
      "outputs": []
    },
    {
      "cell_type": "code",
      "source": [
        "generate_sbox()"
      ],
      "metadata": {
        "id": "2Pw-8XJpSuUv"
      },
      "execution_count": null,
      "outputs": []
    },
    {
      "cell_type": "code",
      "source": [
        "def shift_rows(a):\n",
        "    b=np.copy(a)\n",
        "    for i in range (1,4):\n",
        "        for j in range (0,4):\n",
        "            b[i][j]=a[i][j+i-4]\n",
        "    return b"
      ],
      "metadata": {
        "id": "qvTDFkMkS4xL"
      },
      "execution_count": 4,
      "outputs": []
    },
    {
      "cell_type": "code",
      "source": [
        "a=np.array([[1,2,3,4],\n",
        "           [5,6,7,8],\n",
        "           [9,10,11,12],\n",
        "           [13,14,15,16]])"
      ],
      "metadata": {
        "id": "ucEHuygTS8zm"
      },
      "execution_count": 5,
      "outputs": []
    },
    {
      "cell_type": "code",
      "source": [
        "shift_rows(a)"
      ],
      "metadata": {
        "colab": {
          "base_uri": "https://localhost:8080/"
        },
        "id": "8waX3OoDTAtE",
        "outputId": "d6ab1484-fdf7-4e45-c64d-ffa61c596e8f"
      },
      "execution_count": 6,
      "outputs": [
        {
          "output_type": "execute_result",
          "data": {
            "text/plain": [
              "array([[ 1,  2,  3,  4],\n",
              "       [ 6,  7,  8,  5],\n",
              "       [11, 12,  9, 10],\n",
              "       [16, 13, 14, 15]])"
            ]
          },
          "metadata": {},
          "execution_count": 6
        }
      ]
    },
    {
      "cell_type": "code",
      "source": [
        "def mix_coloumn(a):\n",
        "    x,y=np.shape(a)\n",
        "    b=[[0 for i in range(x)]for j in range(y)]\n",
        "\n",
        "    for i in range(x):\n",
        "        for j in range(y):\n",
        "            b[i][j]=a[j][i]\n",
        "    c=np.copy(b)\n",
        "    c[2][:]=b[3][:]\n",
        "    c[3][:]=b[2][:]\n",
        "    return np.array(c)"
      ],
      "metadata": {
        "id": "iomHd2xiTExM"
      },
      "execution_count": 7,
      "outputs": []
    },
    {
      "cell_type": "code",
      "source": [
        "a=np.array([[1,2,3,4],\n",
        "           [5,6,7,8],\n",
        "           [9,10,11,12],\n",
        "           [13,14,15,16]])"
      ],
      "metadata": {
        "id": "O_Se4cwYTHWr"
      },
      "execution_count": 8,
      "outputs": []
    },
    {
      "cell_type": "code",
      "source": [
        "mix_coloumn(a)"
      ],
      "metadata": {
        "id": "BeyXsFbQTPyV"
      },
      "execution_count": null,
      "outputs": []
    },
    {
      "cell_type": "markdown",
      "source": [
        " **SBox Analysis**"
      ],
      "metadata": {
        "id": "4IAkcI32T2Pg"
      }
    },
    {
      "cell_type": "code",
      "source": [
        "def balance(s_b):\n",
        "    s_b=list(s_b.flatten())\n",
        "    count_one=0\n",
        "    count_zero=0\n",
        "    for i in range(len(s_b)):\n",
        "        ini_string=s_b[i]\n",
        "        res = \"{0:08b}\".format(int(ini_string, 16))\n",
        "        count_zero=count_zero+res.count('0')\n",
        "        count_one=count_one+res.count('1')\n",
        "    print(\"percentage of zeros:\", (count_zero*100/(count_zero+count_one)),\"percentage of ones:\", (count_one*100/(count_zero+count_one)))"
      ],
      "metadata": {
        "id": "dMNjUwQ3TUEq"
      },
      "execution_count": 10,
      "outputs": []
    },
    {
      "cell_type": "code",
      "source": [
        "s=generate_sbox()"
      ],
      "metadata": {
        "id": "Nne_E5FeTaex"
      },
      "execution_count": 11,
      "outputs": []
    },
    {
      "cell_type": "code",
      "source": [
        "def key_sensitivity(lst1,lst2):\n",
        "    lst1=list(lst1.flatten())\n",
        "    lst2=list(lst2.flatten())\n",
        "    count=0\n",
        "    for i in range(len(lst1)):\n",
        "        if lst1[i]==lst2[i]:\n",
        "            count+=1\n",
        "    print (\"percentage change:\",(1-(count/len(lst1)))*100)"
      ],
      "metadata": {
        "id": "CWZX7wUwTdtW"
      },
      "execution_count": 12,
      "outputs": []
    },
    {
      "cell_type": "code",
      "source": [
        "s1=generate_sbox(u_in=3.9985)\n",
        "s2=generate_sbox(u_in=3.9986)"
      ],
      "metadata": {
        "id": "hbPudW4eToD9"
      },
      "execution_count": 13,
      "outputs": []
    },
    {
      "cell_type": "code",
      "source": [
        "key_sensitivity(s1,s2)"
      ],
      "metadata": {
        "id": "500SHj-3TtjS"
      },
      "execution_count": null,
      "outputs": []
    }
  ]
}