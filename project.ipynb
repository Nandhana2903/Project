{
  "nbformat": 4,
  "nbformat_minor": 0,
  "metadata": {
    "colab": {
      "provenance": [],
      "authorship_tag": "ABX9TyOcq8RWUKmRGUuNI1s3e0hJ",
      "include_colab_link": true
    },
    "kernelspec": {
      "name": "python3",
      "display_name": "Python 3"
    },
    "language_info": {
      "name": "python"
    }
  },
  "cells": [
    {
      "cell_type": "markdown",
      "metadata": {
        "id": "view-in-github",
        "colab_type": "text"
      },
      "source": [
        "<a href=\"https://colab.research.google.com/github/Nandhana2903/Project/blob/main/project.ipynb\" target=\"_parent\"><img src=\"https://colab.research.google.com/assets/colab-badge.svg\" alt=\"Open In Colab\"/></a>"
      ]
    },
    {
      "cell_type": "code",
      "source": [
        "import numpy as np"
      ],
      "metadata": {
        "id": "6nZYyTkD8QDD"
      },
      "execution_count": null,
      "outputs": []
    },
    {
      "cell_type": "code",
      "source": [
        "def generate_sbox(u_in=3.9985):\n",
        "    m=10000\n",
        "    x=np.random.rand(m)\n",
        "    x[0]=0.02\n",
        "    u=u_in\n",
        "    x_hex=[float.hex(x[0])]\n",
        "    for i in range (1,m):\n",
        "        x[i]=u*x[i-1]*(1-x[i-1])\n",
        "        x_hex.append(float.hex(x[i]))\n",
        "    s=[]\n",
        "    s_b=[]\n",
        "    for i in range(len(x_hex)):\n",
        "        s.append(x_hex[i][5]+x_hex[i][6])\n",
        "    for i in range(len(s)):\n",
        "        if len(s_b)<257:\n",
        "            if s[i] not in s_b:\n",
        "                s_b.append(s[i])\n",
        "\n",
        "    s_nump=np.array(s_b)\n",
        "    s_box=s_nump.reshape(16,16)\n",
        "    return s_box"
      ],
      "metadata": {
        "id": "bAUTdnzS82rn"
      },
      "execution_count": null,
      "outputs": []
    },
    {
      "cell_type": "code",
      "source": [
        "generate_sbox()"
      ],
      "metadata": {
        "id": "2Pw-8XJpSuUv",
        "colab": {
          "base_uri": "https://localhost:8080/"
        },
        "outputId": "f82e4b8e-cd2c-48c1-ce82-500c9904e037"
      },
      "execution_count": null,
      "outputs": [
        {
          "output_type": "execute_result",
          "data": {
            "text/plain": [
              "array([['7a', '10', '7b', '47', 'c7', '05', '54', 'ba', '1e', '61', '71',\n",
              "        '34', '1a', '5b', '67', '88'],\n",
              "       ['ae', '35', '02', 'dc', 'cb', '44', 'b9', 'e5', '9d', 'a1', '63',\n",
              "        '50', '6a', '42', '2c', '11'],\n",
              "       ['41', '4d', 'b4', '1c', 'a0', '4a', 'e3', 'a5', 'd4', '5c', 'fc',\n",
              "        '60', '17', '20', '83', 'af'],\n",
              "       ['a8', 'd3', '5d', 'cd', 'fd', 'ff', '00', 'f5', 'ef', '51', '81',\n",
              "        '8d', '12', 'ed', 'ab', '4e'],\n",
              "       ['a6', '80', '74', '7c', '40', '5a', '36', '9b', '62', '82', '33',\n",
              "        '77', '26', 'c4', '0b', 'b6'],\n",
              "       ['69', '14', '08', 'c9', '2a', 'bc', '27', '86', 'da', 'ec', '9a',\n",
              "        '56', 'e6', '09', '85', '30'],\n",
              "       ['b7', 'ac', 'ee', '94', '6b', 'd2', 'be', '2b', '58', 'd6', '93',\n",
              "        '3c', '66', '90', '8f', 'd9'],\n",
              "       ['c8', 'c3', 'f7', '70', '31', 'a7', 'fa', '48', 'a3', '98', 'ca',\n",
              "        '46', 'b3', '0d', 'd1', 'dd'],\n",
              "       ['c6', '25', 'f9', '24', '0a', '79', '39', '01', '52', '7d', 'eb',\n",
              "        'c0', '13', 'cc', 'f4', '23'],\n",
              "       ['43', '72', 'c2', 'cf', '9f', 'e0', '65', 'fb', '96', '57', '75',\n",
              "        '07', 'f3', '5e', 'd7', '0e'],\n",
              "       ['5f', '76', '3a', '0c', '4f', '03', '0f', '8a', 'c5', 'e9', '7e',\n",
              "        'b5', 'a9', '92', '29', 'ad'],\n",
              "       ['15', '6d', '18', 'b1', 'bf', '84', '8e', '78', '3e', '7f', 'b2',\n",
              "        '3d', '4c', 'bd', 'd8', '9c'],\n",
              "       ['22', '1f', '59', 'bb', 'e7', 'e4', '68', 'a4', '8c', '97', 'ea',\n",
              "        '9e', '95', '53', 'db', '45'],\n",
              "       ['d5', 'e8', '91', '04', '99', '28', 'd0', '2d', '6e', '1b', '87',\n",
              "        'f1', 'b0', '64', 'de', '21'],\n",
              "       ['32', 'f8', '06', '19', '2e', '6c', 'f6', '6f', '49', '55', '37',\n",
              "        '3f', 'f2', '8b', 'e2', 'c1'],\n",
              "       ['1d', '4b', 'aa', '73', 'b8', 'a2', 'df', 'ce', '3b', 'fe', '16',\n",
              "        '89', 'e1', '2f', '38', 'f0']], dtype='<U2')"
            ]
          },
          "metadata": {},
          "execution_count": 21
        }
      ]
    },
    {
      "cell_type": "code",
      "source": [
        "def shift_rows(a):\n",
        "    b=np.copy(a)\n",
        "    for i in range (1,4):\n",
        "        for j in range (0,4):\n",
        "            b[i][j]=a[i][j+i-4]\n",
        "    return b"
      ],
      "metadata": {
        "id": "qvTDFkMkS4xL"
      },
      "execution_count": null,
      "outputs": []
    },
    {
      "cell_type": "code",
      "source": [
        "a=np.array([[1,2,3,4],\n",
        "           [5,6,7,8],\n",
        "           [9,10,11,12],\n",
        "           [13,14,15,16]])"
      ],
      "metadata": {
        "id": "ucEHuygTS8zm"
      },
      "execution_count": null,
      "outputs": []
    },
    {
      "cell_type": "code",
      "source": [
        "shift_rows(a)"
      ],
      "metadata": {
        "colab": {
          "base_uri": "https://localhost:8080/"
        },
        "id": "8waX3OoDTAtE",
        "outputId": "37b1d16e-ebc0-40d8-8cd4-b1c94265df3a"
      },
      "execution_count": null,
      "outputs": [
        {
          "output_type": "execute_result",
          "data": {
            "text/plain": [
              "array([[ 1,  2,  3,  4],\n",
              "       [ 6,  7,  8,  5],\n",
              "       [11, 12,  9, 10],\n",
              "       [16, 13, 14, 15]])"
            ]
          },
          "metadata": {},
          "execution_count": 10
        }
      ]
    },
    {
      "cell_type": "code",
      "source": [
        "def bitwise_reverse_transpose(a):\n",
        "    x,y=np.shape(a)\n",
        "    b=[[0 for i in range(x)]for j in range(y)]\n",
        "\n",
        "    for i in range(x):\n",
        "        for j in range(y):\n",
        "            b[i][j]=a[j][i]\n",
        "    c=np.copy(b)\n",
        "    c[1][:]=b[2][:]\n",
        "    c[2][:]=b[1][:]\n",
        "    c=np.array(c)\n",
        "    d=np.copy(c)\n",
        "    c[:, [1, 2]] = c[:, [2, 1]]\n",
        "    return np.array(c)\n",
        "\n",
        "def hex_to_binary(hex_value):\n",
        "    return bin(int(hex_value, 16))[2:].zfill(8)\n",
        "\n",
        "def binary_to_hex(binary_value):\n",
        "    return hex(int(binary_value, 2))[2:].upper()\n",
        "\n",
        "def reverse_bits(byte):\n",
        "    return byte[::-1]\n",
        "\n",
        "def process_hex_array(hex_array):\n",
        "    processed_array = []\n",
        "    for row in hex_array:\n",
        "        binary_row = [hex_to_binary(hex_value) for hex_value in row]\n",
        "        reversed_binary_row = [reverse_bits(byte) for byte in binary_row]\n",
        "        processed_row = [binary_to_hex(binary) for binary in reversed_binary_row]\n",
        "        processed_array.append(processed_row)\n",
        "    return processed_array\n",
        "\n",
        "a = [\n",
        "    [\"A1\", \"B2\", \"C3\", \"D4\"],\n",
        "    [\"E5\", \"F6\", \"78\", \"89\"],\n",
        "    [\"9A\", \"AB\", \"CD\", \"EF\"],\n",
        "    [\"12\", \"34\", \"56\", \"78\"]\n",
        "]\n",
        "a=mix_coloumn(a)\n",
        "a = np.array(process_hex_array(a))\n",
        "\n",
        "print(a)"
      ],
      "metadata": {
        "id": "iomHd2xiTExM"
      },
      "execution_count": null,
      "outputs": []
    },
    {
      "cell_type": "code",
      "source": [
        "a=np.array([[1,2,3,4],\n",
        "           [5,6,7,8],\n",
        "           [9,10,11,12],\n",
        "           [13,14,15,16]])"
      ],
      "metadata": {
        "id": "O_Se4cwYTHWr"
      },
      "execution_count": null,
      "outputs": []
    },
    {
      "cell_type": "code",
      "source": [
        "mix_coloumn(a)"
      ],
      "metadata": {
        "id": "BeyXsFbQTPyV",
        "colab": {
          "base_uri": "https://localhost:8080/"
        },
        "outputId": "73fda0c8-c93a-453e-d5f6-a1f7063b1f30"
      },
      "execution_count": null,
      "outputs": [
        {
          "output_type": "execute_result",
          "data": {
            "text/plain": [
              "array([[ 1,  5,  9, 13],\n",
              "       [ 2,  6, 10, 14],\n",
              "       [ 4,  8, 12, 16],\n",
              "       [ 3,  7, 11, 15]])"
            ]
          },
          "metadata": {},
          "execution_count": 13
        }
      ]
    },
    {
      "cell_type": "markdown",
      "source": [
        " **SBox Analysis**"
      ],
      "metadata": {
        "id": "4IAkcI32T2Pg"
      }
    },
    {
      "cell_type": "code",
      "source": [
        "def balance(s_b):\n",
        "    s_b=list(s_b.flatten())\n",
        "    count_one=0\n",
        "    count_zero=0\n",
        "    for i in range(len(s_b)):\n",
        "        ini_string=s_b[i]\n",
        "        res = \"{0:08b}\".format(int(ini_string, 16))\n",
        "        count_zero=count_zero+res.count('0')\n",
        "        count_one=count_one+res.count('1')\n",
        "    print(\"percentage of zeros:\", (count_zero*100/(count_zero+count_one)),\"percentage of ones:\", (count_one*100/(count_zero+count_one)))"
      ],
      "metadata": {
        "id": "dMNjUwQ3TUEq"
      },
      "execution_count": null,
      "outputs": []
    },
    {
      "cell_type": "code",
      "source": [
        "s=generate_sbox()"
      ],
      "metadata": {
        "id": "Nne_E5FeTaex"
      },
      "execution_count": null,
      "outputs": []
    },
    {
      "cell_type": "code",
      "source": [
        "def key_sensitivity(lst1,lst2):\n",
        "    lst1=list(lst1.flatten())\n",
        "    lst2=list(lst2.flatten())\n",
        "    count=0\n",
        "    for i in range(len(lst1)):\n",
        "        if lst1[i]==lst2[i]:\n",
        "            count+=1\n",
        "    print (\"percentage change:\",(1-(count/len(lst1)))*100)"
      ],
      "metadata": {
        "id": "CWZX7wUwTdtW"
      },
      "execution_count": null,
      "outputs": []
    },
    {
      "cell_type": "code",
      "source": [
        "balance(s)"
      ],
      "metadata": {
        "colab": {
          "base_uri": "https://localhost:8080/"
        },
        "id": "WbuCWyh7Z5B7",
        "outputId": "2f765f02-b74c-48da-de1b-a2e255d431f7"
      },
      "execution_count": null,
      "outputs": [
        {
          "output_type": "stream",
          "name": "stdout",
          "text": [
            "percentage of zeros: 50.0 percentage of ones: 50.0\n"
          ]
        }
      ]
    },
    {
      "cell_type": "code",
      "source": [
        "s1=generate_sbox(u_in=3.9985)\n",
        "s2=generate_sbox(u_in=3.9986)"
      ],
      "metadata": {
        "id": "hbPudW4eToD9"
      },
      "execution_count": null,
      "outputs": []
    },
    {
      "cell_type": "code",
      "source": [
        "key_sensitivity(s1,s2)"
      ],
      "metadata": {
        "id": "500SHj-3TtjS",
        "colab": {
          "base_uri": "https://localhost:8080/"
        },
        "outputId": "f78a737f-c339-40ab-9f9d-b26d7dc6b8c6"
      },
      "execution_count": null,
      "outputs": [
        {
          "output_type": "stream",
          "name": "stdout",
          "text": [
            "percentage change: 98.046875\n"
          ]
        }
      ]
    }
  ]
}